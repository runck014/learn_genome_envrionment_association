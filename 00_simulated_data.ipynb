{
 "cells": [
  {
   "cell_type": "markdown",
   "id": "swiss-accident",
   "metadata": {},
   "source": [
    "# Simulating Data for Mixed Effects Models\n",
    "A mixed effects model (or heirarchical or multi-level) is a model where \"at least of the variables is categorical representing experimental or observational units in the data\" (Bates, 2018 lme4: Mixed-effects modeling with R). These categories can be at specific \"levels\", but they may also span levels (e.g. category changes over time)."
   ]
  },
  {
   "cell_type": "code",
   "execution_count": null,
   "id": "palestinian-craps",
   "metadata": {},
   "outputs": [],
   "source": [
    "import numpy as np\n",
    "import pandas as pd"
   ]
  }
 ],
 "metadata": {
  "kernelspec": {
   "display_name": "winterturf_py36",
   "language": "python",
   "name": "winterturf_py36"
  },
  "language_info": {
   "codemirror_mode": {
    "name": "ipython",
    "version": 3
   },
   "file_extension": ".py",
   "mimetype": "text/x-python",
   "name": "python",
   "nbconvert_exporter": "python",
   "pygments_lexer": "ipython3",
   "version": "3.6.13"
  }
 },
 "nbformat": 4,
 "nbformat_minor": 5
}
